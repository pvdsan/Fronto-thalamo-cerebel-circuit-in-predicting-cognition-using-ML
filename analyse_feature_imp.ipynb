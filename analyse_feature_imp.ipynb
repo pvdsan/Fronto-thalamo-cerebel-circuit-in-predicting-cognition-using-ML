{
 "cells": [
  {
   "cell_type": "code",
   "execution_count": 61,
   "metadata": {},
   "outputs": [],
   "source": [
    "import numpy as np\n",
    "import pandas as pd \n",
    "import matplotlib.pyplot as plt \n"
   ]
  },
  {
   "cell_type": "code",
   "execution_count": 66,
   "metadata": {},
   "outputs": [],
   "source": [
    "feat = pd.read_csv('cross_validation_results_bayesian/feature_importance/aggregated_feature_importance.csv')\n",
    "feat = feat[(feat['Data Type']=='SMRI') & (feat['Target']=='c2b') & (feat['Subset Type']=='FTPC')]\n",
    "feat['Feature_Group'] = feat['Feature'].str[0]"
   ]
  },
  {
   "cell_type": "code",
   "execution_count": 68,
   "metadata": {},
   "outputs": [
    {
     "data": {
      "text/html": [
       "<div>\n",
       "<style scoped>\n",
       "    .dataframe tbody tr th:only-of-type {\n",
       "        vertical-align: middle;\n",
       "    }\n",
       "\n",
       "    .dataframe tbody tr th {\n",
       "        vertical-align: top;\n",
       "    }\n",
       "\n",
       "    .dataframe thead th {\n",
       "        text-align: right;\n",
       "    }\n",
       "</style>\n",
       "<table border=\"1\" class=\"dataframe\">\n",
       "  <thead>\n",
       "    <tr style=\"text-align: right;\">\n",
       "      <th></th>\n",
       "      <th>Data Type</th>\n",
       "      <th>Subset Type</th>\n",
       "      <th>Target</th>\n",
       "      <th>Feature</th>\n",
       "      <th>Mean_Coefficient</th>\n",
       "      <th>Mean_Abs_Coefficient</th>\n",
       "      <th>Std_Abs_Coefficient</th>\n",
       "      <th>Feature_Group</th>\n",
       "    </tr>\n",
       "  </thead>\n",
       "  <tbody>\n",
       "    <tr>\n",
       "      <th>5851</th>\n",
       "      <td>SMRI</td>\n",
       "      <td>FTPC</td>\n",
       "      <td>c2b</td>\n",
       "      <td>F123</td>\n",
       "      <td>-0.034199</td>\n",
       "      <td>0.034199</td>\n",
       "      <td>0.003166</td>\n",
       "      <td>F</td>\n",
       "    </tr>\n",
       "    <tr>\n",
       "      <th>5852</th>\n",
       "      <td>SMRI</td>\n",
       "      <td>FTPC</td>\n",
       "      <td>c2b</td>\n",
       "      <td>F158</td>\n",
       "      <td>0.030304</td>\n",
       "      <td>0.030304</td>\n",
       "      <td>0.004458</td>\n",
       "      <td>F</td>\n",
       "    </tr>\n",
       "    <tr>\n",
       "      <th>5853</th>\n",
       "      <td>SMRI</td>\n",
       "      <td>FTPC</td>\n",
       "      <td>c2b</td>\n",
       "      <td>R1</td>\n",
       "      <td>-0.029660</td>\n",
       "      <td>0.029660</td>\n",
       "      <td>0.004967</td>\n",
       "      <td>R</td>\n",
       "    </tr>\n",
       "    <tr>\n",
       "      <th>5854</th>\n",
       "      <td>SMRI</td>\n",
       "      <td>FTPC</td>\n",
       "      <td>c2b</td>\n",
       "      <td>P92</td>\n",
       "      <td>-0.027637</td>\n",
       "      <td>0.027637</td>\n",
       "      <td>0.003191</td>\n",
       "      <td>P</td>\n",
       "    </tr>\n",
       "    <tr>\n",
       "      <th>5855</th>\n",
       "      <td>SMRI</td>\n",
       "      <td>FTPC</td>\n",
       "      <td>c2b</td>\n",
       "      <td>F127</td>\n",
       "      <td>-0.027485</td>\n",
       "      <td>0.027485</td>\n",
       "      <td>0.005521</td>\n",
       "      <td>F</td>\n",
       "    </tr>\n",
       "    <tr>\n",
       "      <th>5856</th>\n",
       "      <td>SMRI</td>\n",
       "      <td>FTPC</td>\n",
       "      <td>c2b</td>\n",
       "      <td>F125</td>\n",
       "      <td>0.026680</td>\n",
       "      <td>0.026680</td>\n",
       "      <td>0.003057</td>\n",
       "      <td>F</td>\n",
       "    </tr>\n",
       "    <tr>\n",
       "      <th>5857</th>\n",
       "      <td>SMRI</td>\n",
       "      <td>FTPC</td>\n",
       "      <td>c2b</td>\n",
       "      <td>F56</td>\n",
       "      <td>0.026170</td>\n",
       "      <td>0.026170</td>\n",
       "      <td>0.002522</td>\n",
       "      <td>F</td>\n",
       "    </tr>\n",
       "    <tr>\n",
       "      <th>5858</th>\n",
       "      <td>SMRI</td>\n",
       "      <td>FTPC</td>\n",
       "      <td>c2b</td>\n",
       "      <td>P65</td>\n",
       "      <td>-0.025708</td>\n",
       "      <td>0.025708</td>\n",
       "      <td>0.004971</td>\n",
       "      <td>P</td>\n",
       "    </tr>\n",
       "    <tr>\n",
       "      <th>5859</th>\n",
       "      <td>SMRI</td>\n",
       "      <td>FTPC</td>\n",
       "      <td>c2b</td>\n",
       "      <td>F107</td>\n",
       "      <td>0.024833</td>\n",
       "      <td>0.024833</td>\n",
       "      <td>0.005455</td>\n",
       "      <td>F</td>\n",
       "    </tr>\n",
       "    <tr>\n",
       "      <th>5860</th>\n",
       "      <td>SMRI</td>\n",
       "      <td>FTPC</td>\n",
       "      <td>c2b</td>\n",
       "      <td>P78</td>\n",
       "      <td>-0.024662</td>\n",
       "      <td>0.024662</td>\n",
       "      <td>0.002324</td>\n",
       "      <td>P</td>\n",
       "    </tr>\n",
       "    <tr>\n",
       "      <th>5861</th>\n",
       "      <td>SMRI</td>\n",
       "      <td>FTPC</td>\n",
       "      <td>c2b</td>\n",
       "      <td>F39</td>\n",
       "      <td>-0.024484</td>\n",
       "      <td>0.024484</td>\n",
       "      <td>0.003659</td>\n",
       "      <td>F</td>\n",
       "    </tr>\n",
       "    <tr>\n",
       "      <th>5862</th>\n",
       "      <td>SMRI</td>\n",
       "      <td>FTPC</td>\n",
       "      <td>c2b</td>\n",
       "      <td>C29</td>\n",
       "      <td>-0.022880</td>\n",
       "      <td>0.022880</td>\n",
       "      <td>0.002697</td>\n",
       "      <td>C</td>\n",
       "    </tr>\n",
       "    <tr>\n",
       "      <th>5863</th>\n",
       "      <td>SMRI</td>\n",
       "      <td>FTPC</td>\n",
       "      <td>c2b</td>\n",
       "      <td>C8</td>\n",
       "      <td>0.022779</td>\n",
       "      <td>0.022779</td>\n",
       "      <td>0.003003</td>\n",
       "      <td>C</td>\n",
       "    </tr>\n",
       "    <tr>\n",
       "      <th>5864</th>\n",
       "      <td>SMRI</td>\n",
       "      <td>FTPC</td>\n",
       "      <td>c2b</td>\n",
       "      <td>F132</td>\n",
       "      <td>0.022663</td>\n",
       "      <td>0.022663</td>\n",
       "      <td>0.003420</td>\n",
       "      <td>F</td>\n",
       "    </tr>\n",
       "    <tr>\n",
       "      <th>5865</th>\n",
       "      <td>SMRI</td>\n",
       "      <td>FTPC</td>\n",
       "      <td>c2b</td>\n",
       "      <td>C10</td>\n",
       "      <td>0.022366</td>\n",
       "      <td>0.022366</td>\n",
       "      <td>0.002549</td>\n",
       "      <td>C</td>\n",
       "    </tr>\n",
       "    <tr>\n",
       "      <th>5866</th>\n",
       "      <td>SMRI</td>\n",
       "      <td>FTPC</td>\n",
       "      <td>c2b</td>\n",
       "      <td>C5</td>\n",
       "      <td>0.022339</td>\n",
       "      <td>0.022339</td>\n",
       "      <td>0.002531</td>\n",
       "      <td>C</td>\n",
       "    </tr>\n",
       "    <tr>\n",
       "      <th>5867</th>\n",
       "      <td>SMRI</td>\n",
       "      <td>FTPC</td>\n",
       "      <td>c2b</td>\n",
       "      <td>P101</td>\n",
       "      <td>-0.020732</td>\n",
       "      <td>0.020732</td>\n",
       "      <td>0.004604</td>\n",
       "      <td>P</td>\n",
       "    </tr>\n",
       "    <tr>\n",
       "      <th>5868</th>\n",
       "      <td>SMRI</td>\n",
       "      <td>FTPC</td>\n",
       "      <td>c2b</td>\n",
       "      <td>C16</td>\n",
       "      <td>-0.020404</td>\n",
       "      <td>0.020404</td>\n",
       "      <td>0.005006</td>\n",
       "      <td>C</td>\n",
       "    </tr>\n",
       "    <tr>\n",
       "      <th>5869</th>\n",
       "      <td>SMRI</td>\n",
       "      <td>FTPC</td>\n",
       "      <td>c2b</td>\n",
       "      <td>P6</td>\n",
       "      <td>0.019758</td>\n",
       "      <td>0.019758</td>\n",
       "      <td>0.003537</td>\n",
       "      <td>P</td>\n",
       "    </tr>\n",
       "    <tr>\n",
       "      <th>5870</th>\n",
       "      <td>SMRI</td>\n",
       "      <td>FTPC</td>\n",
       "      <td>c2b</td>\n",
       "      <td>T9</td>\n",
       "      <td>-0.019295</td>\n",
       "      <td>0.019295</td>\n",
       "      <td>0.003430</td>\n",
       "      <td>T</td>\n",
       "    </tr>\n",
       "    <tr>\n",
       "      <th>5871</th>\n",
       "      <td>SMRI</td>\n",
       "      <td>FTPC</td>\n",
       "      <td>c2b</td>\n",
       "      <td>P38</td>\n",
       "      <td>-0.018666</td>\n",
       "      <td>0.018666</td>\n",
       "      <td>0.005371</td>\n",
       "      <td>P</td>\n",
       "    </tr>\n",
       "    <tr>\n",
       "      <th>5872</th>\n",
       "      <td>SMRI</td>\n",
       "      <td>FTPC</td>\n",
       "      <td>c2b</td>\n",
       "      <td>F84</td>\n",
       "      <td>0.018383</td>\n",
       "      <td>0.018383</td>\n",
       "      <td>0.004789</td>\n",
       "      <td>F</td>\n",
       "    </tr>\n",
       "    <tr>\n",
       "      <th>5873</th>\n",
       "      <td>SMRI</td>\n",
       "      <td>FTPC</td>\n",
       "      <td>c2b</td>\n",
       "      <td>P21</td>\n",
       "      <td>0.018373</td>\n",
       "      <td>0.018373</td>\n",
       "      <td>0.004771</td>\n",
       "      <td>P</td>\n",
       "    </tr>\n",
       "    <tr>\n",
       "      <th>5874</th>\n",
       "      <td>SMRI</td>\n",
       "      <td>FTPC</td>\n",
       "      <td>c2b</td>\n",
       "      <td>F5</td>\n",
       "      <td>0.018042</td>\n",
       "      <td>0.018042</td>\n",
       "      <td>0.005641</td>\n",
       "      <td>F</td>\n",
       "    </tr>\n",
       "    <tr>\n",
       "      <th>5875</th>\n",
       "      <td>SMRI</td>\n",
       "      <td>FTPC</td>\n",
       "      <td>c2b</td>\n",
       "      <td>P110</td>\n",
       "      <td>0.017790</td>\n",
       "      <td>0.017790</td>\n",
       "      <td>0.003225</td>\n",
       "      <td>P</td>\n",
       "    </tr>\n",
       "    <tr>\n",
       "      <th>5876</th>\n",
       "      <td>SMRI</td>\n",
       "      <td>FTPC</td>\n",
       "      <td>c2b</td>\n",
       "      <td>F147</td>\n",
       "      <td>0.017383</td>\n",
       "      <td>0.017383</td>\n",
       "      <td>0.004577</td>\n",
       "      <td>F</td>\n",
       "    </tr>\n",
       "    <tr>\n",
       "      <th>5877</th>\n",
       "      <td>SMRI</td>\n",
       "      <td>FTPC</td>\n",
       "      <td>c2b</td>\n",
       "      <td>C9</td>\n",
       "      <td>0.017348</td>\n",
       "      <td>0.017348</td>\n",
       "      <td>0.001607</td>\n",
       "      <td>C</td>\n",
       "    </tr>\n",
       "    <tr>\n",
       "      <th>5878</th>\n",
       "      <td>SMRI</td>\n",
       "      <td>FTPC</td>\n",
       "      <td>c2b</td>\n",
       "      <td>F138</td>\n",
       "      <td>-0.017343</td>\n",
       "      <td>0.017343</td>\n",
       "      <td>0.006149</td>\n",
       "      <td>F</td>\n",
       "    </tr>\n",
       "    <tr>\n",
       "      <th>5879</th>\n",
       "      <td>SMRI</td>\n",
       "      <td>FTPC</td>\n",
       "      <td>c2b</td>\n",
       "      <td>F80</td>\n",
       "      <td>-0.017332</td>\n",
       "      <td>0.017332</td>\n",
       "      <td>0.004149</td>\n",
       "      <td>F</td>\n",
       "    </tr>\n",
       "    <tr>\n",
       "      <th>5880</th>\n",
       "      <td>SMRI</td>\n",
       "      <td>FTPC</td>\n",
       "      <td>c2b</td>\n",
       "      <td>F4</td>\n",
       "      <td>0.016998</td>\n",
       "      <td>0.016998</td>\n",
       "      <td>0.004141</td>\n",
       "      <td>F</td>\n",
       "    </tr>\n",
       "  </tbody>\n",
       "</table>\n",
       "</div>"
      ],
      "text/plain": [
       "     Data Type Subset Type Target Feature  Mean_Coefficient  \\\n",
       "5851      SMRI        FTPC    c2b    F123         -0.034199   \n",
       "5852      SMRI        FTPC    c2b    F158          0.030304   \n",
       "5853      SMRI        FTPC    c2b      R1         -0.029660   \n",
       "5854      SMRI        FTPC    c2b     P92         -0.027637   \n",
       "5855      SMRI        FTPC    c2b    F127         -0.027485   \n",
       "5856      SMRI        FTPC    c2b    F125          0.026680   \n",
       "5857      SMRI        FTPC    c2b     F56          0.026170   \n",
       "5858      SMRI        FTPC    c2b     P65         -0.025708   \n",
       "5859      SMRI        FTPC    c2b    F107          0.024833   \n",
       "5860      SMRI        FTPC    c2b     P78         -0.024662   \n",
       "5861      SMRI        FTPC    c2b     F39         -0.024484   \n",
       "5862      SMRI        FTPC    c2b     C29         -0.022880   \n",
       "5863      SMRI        FTPC    c2b      C8          0.022779   \n",
       "5864      SMRI        FTPC    c2b    F132          0.022663   \n",
       "5865      SMRI        FTPC    c2b     C10          0.022366   \n",
       "5866      SMRI        FTPC    c2b      C5          0.022339   \n",
       "5867      SMRI        FTPC    c2b    P101         -0.020732   \n",
       "5868      SMRI        FTPC    c2b     C16         -0.020404   \n",
       "5869      SMRI        FTPC    c2b      P6          0.019758   \n",
       "5870      SMRI        FTPC    c2b      T9         -0.019295   \n",
       "5871      SMRI        FTPC    c2b     P38         -0.018666   \n",
       "5872      SMRI        FTPC    c2b     F84          0.018383   \n",
       "5873      SMRI        FTPC    c2b     P21          0.018373   \n",
       "5874      SMRI        FTPC    c2b      F5          0.018042   \n",
       "5875      SMRI        FTPC    c2b    P110          0.017790   \n",
       "5876      SMRI        FTPC    c2b    F147          0.017383   \n",
       "5877      SMRI        FTPC    c2b      C9          0.017348   \n",
       "5878      SMRI        FTPC    c2b    F138         -0.017343   \n",
       "5879      SMRI        FTPC    c2b     F80         -0.017332   \n",
       "5880      SMRI        FTPC    c2b      F4          0.016998   \n",
       "\n",
       "      Mean_Abs_Coefficient  Std_Abs_Coefficient Feature_Group  \n",
       "5851              0.034199             0.003166             F  \n",
       "5852              0.030304             0.004458             F  \n",
       "5853              0.029660             0.004967             R  \n",
       "5854              0.027637             0.003191             P  \n",
       "5855              0.027485             0.005521             F  \n",
       "5856              0.026680             0.003057             F  \n",
       "5857              0.026170             0.002522             F  \n",
       "5858              0.025708             0.004971             P  \n",
       "5859              0.024833             0.005455             F  \n",
       "5860              0.024662             0.002324             P  \n",
       "5861              0.024484             0.003659             F  \n",
       "5862              0.022880             0.002697             C  \n",
       "5863              0.022779             0.003003             C  \n",
       "5864              0.022663             0.003420             F  \n",
       "5865              0.022366             0.002549             C  \n",
       "5866              0.022339             0.002531             C  \n",
       "5867              0.020732             0.004604             P  \n",
       "5868              0.020404             0.005006             C  \n",
       "5869              0.019758             0.003537             P  \n",
       "5870              0.019295             0.003430             T  \n",
       "5871              0.018666             0.005371             P  \n",
       "5872              0.018383             0.004789             F  \n",
       "5873              0.018373             0.004771             P  \n",
       "5874              0.018042             0.005641             F  \n",
       "5875              0.017790             0.003225             P  \n",
       "5876              0.017383             0.004577             F  \n",
       "5877              0.017348             0.001607             C  \n",
       "5878              0.017343             0.006149             F  \n",
       "5879              0.017332             0.004149             F  \n",
       "5880              0.016998             0.004141             F  "
      ]
     },
     "execution_count": 68,
     "metadata": {},
     "output_type": "execute_result"
    }
   ],
   "source": [
    "feat.head(30)"
   ]
  },
  {
   "cell_type": "code",
   "execution_count": 65,
   "metadata": {},
   "outputs": [
    {
     "data": {
      "text/html": [
       "<div>\n",
       "<style scoped>\n",
       "    .dataframe tbody tr th:only-of-type {\n",
       "        vertical-align: middle;\n",
       "    }\n",
       "\n",
       "    .dataframe tbody tr th {\n",
       "        vertical-align: top;\n",
       "    }\n",
       "\n",
       "    .dataframe thead th {\n",
       "        text-align: right;\n",
       "    }\n",
       "</style>\n",
       "<table border=\"1\" class=\"dataframe\">\n",
       "  <thead>\n",
       "    <tr style=\"text-align: right;\">\n",
       "      <th></th>\n",
       "      <th>Data Type</th>\n",
       "      <th>Subset Type</th>\n",
       "      <th>Target</th>\n",
       "      <th>Feature</th>\n",
       "      <th>Mean_Coefficient</th>\n",
       "      <th>Mean_Abs_Coefficient</th>\n",
       "      <th>Std_Abs_Coefficient</th>\n",
       "      <th>Feature_Group</th>\n",
       "    </tr>\n",
       "  </thead>\n",
       "  <tbody>\n",
       "    <tr>\n",
       "      <th>0</th>\n",
       "      <td>DTI</td>\n",
       "      <td>FTC</td>\n",
       "      <td>c0b</td>\n",
       "      <td>T9</td>\n",
       "      <td>0.032579</td>\n",
       "      <td>0.032579</td>\n",
       "      <td>0.001276</td>\n",
       "      <td>T</td>\n",
       "    </tr>\n",
       "    <tr>\n",
       "      <th>1</th>\n",
       "      <td>DTI</td>\n",
       "      <td>FTC</td>\n",
       "      <td>c0b</td>\n",
       "      <td>F86</td>\n",
       "      <td>-0.026043</td>\n",
       "      <td>0.026043</td>\n",
       "      <td>0.002958</td>\n",
       "      <td>F</td>\n",
       "    </tr>\n",
       "    <tr>\n",
       "      <th>2</th>\n",
       "      <td>DTI</td>\n",
       "      <td>FTC</td>\n",
       "      <td>c0b</td>\n",
       "      <td>F111</td>\n",
       "      <td>0.024131</td>\n",
       "      <td>0.024131</td>\n",
       "      <td>0.002525</td>\n",
       "      <td>F</td>\n",
       "    </tr>\n",
       "    <tr>\n",
       "      <th>3</th>\n",
       "      <td>DTI</td>\n",
       "      <td>FTC</td>\n",
       "      <td>c0b</td>\n",
       "      <td>F109</td>\n",
       "      <td>0.023603</td>\n",
       "      <td>0.023603</td>\n",
       "      <td>0.001576</td>\n",
       "      <td>F</td>\n",
       "    </tr>\n",
       "    <tr>\n",
       "      <th>4</th>\n",
       "      <td>DTI</td>\n",
       "      <td>FTC</td>\n",
       "      <td>c0b</td>\n",
       "      <td>F141</td>\n",
       "      <td>-0.022578</td>\n",
       "      <td>0.022578</td>\n",
       "      <td>0.002583</td>\n",
       "      <td>F</td>\n",
       "    </tr>\n",
       "    <tr>\n",
       "      <th>...</th>\n",
       "      <td>...</td>\n",
       "      <td>...</td>\n",
       "      <td>...</td>\n",
       "      <td>...</td>\n",
       "      <td>...</td>\n",
       "      <td>...</td>\n",
       "      <td>...</td>\n",
       "      <td>...</td>\n",
       "    </tr>\n",
       "    <tr>\n",
       "      <th>6851</th>\n",
       "      <td>SMRI</td>\n",
       "      <td>FTPC</td>\n",
       "      <td>pca1</td>\n",
       "      <td>P99</td>\n",
       "      <td>0.000486</td>\n",
       "      <td>0.001147</td>\n",
       "      <td>0.000649</td>\n",
       "      <td>P</td>\n",
       "    </tr>\n",
       "    <tr>\n",
       "      <th>6852</th>\n",
       "      <td>SMRI</td>\n",
       "      <td>FTPC</td>\n",
       "      <td>pca1</td>\n",
       "      <td>T4</td>\n",
       "      <td>0.000512</td>\n",
       "      <td>0.001073</td>\n",
       "      <td>0.000730</td>\n",
       "      <td>T</td>\n",
       "    </tr>\n",
       "    <tr>\n",
       "      <th>6853</th>\n",
       "      <td>SMRI</td>\n",
       "      <td>FTPC</td>\n",
       "      <td>pca1</td>\n",
       "      <td>C15</td>\n",
       "      <td>0.000040</td>\n",
       "      <td>0.001046</td>\n",
       "      <td>0.000829</td>\n",
       "      <td>C</td>\n",
       "    </tr>\n",
       "    <tr>\n",
       "      <th>6854</th>\n",
       "      <td>SMRI</td>\n",
       "      <td>FTPC</td>\n",
       "      <td>pca1</td>\n",
       "      <td>F6</td>\n",
       "      <td>0.000116</td>\n",
       "      <td>0.000951</td>\n",
       "      <td>0.000488</td>\n",
       "      <td>F</td>\n",
       "    </tr>\n",
       "    <tr>\n",
       "      <th>6855</th>\n",
       "      <td>SMRI</td>\n",
       "      <td>FTPC</td>\n",
       "      <td>pca1</td>\n",
       "      <td>F82</td>\n",
       "      <td>0.000607</td>\n",
       "      <td>0.000897</td>\n",
       "      <td>0.000597</td>\n",
       "      <td>F</td>\n",
       "    </tr>\n",
       "  </tbody>\n",
       "</table>\n",
       "<p>6856 rows × 8 columns</p>\n",
       "</div>"
      ],
      "text/plain": [
       "     Data Type Subset Type Target Feature  Mean_Coefficient  \\\n",
       "0          DTI         FTC    c0b      T9          0.032579   \n",
       "1          DTI         FTC    c0b     F86         -0.026043   \n",
       "2          DTI         FTC    c0b    F111          0.024131   \n",
       "3          DTI         FTC    c0b    F109          0.023603   \n",
       "4          DTI         FTC    c0b    F141         -0.022578   \n",
       "...        ...         ...    ...     ...               ...   \n",
       "6851      SMRI        FTPC   pca1     P99          0.000486   \n",
       "6852      SMRI        FTPC   pca1      T4          0.000512   \n",
       "6853      SMRI        FTPC   pca1     C15          0.000040   \n",
       "6854      SMRI        FTPC   pca1      F6          0.000116   \n",
       "6855      SMRI        FTPC   pca1     F82          0.000607   \n",
       "\n",
       "      Mean_Abs_Coefficient  Std_Abs_Coefficient Feature_Group  \n",
       "0                 0.032579             0.001276             T  \n",
       "1                 0.026043             0.002958             F  \n",
       "2                 0.024131             0.002525             F  \n",
       "3                 0.023603             0.001576             F  \n",
       "4                 0.022578             0.002583             F  \n",
       "...                    ...                  ...           ...  \n",
       "6851              0.001147             0.000649             P  \n",
       "6852              0.001073             0.000730             T  \n",
       "6853              0.001046             0.000829             C  \n",
       "6854              0.000951             0.000488             F  \n",
       "6855              0.000897             0.000597             F  \n",
       "\n",
       "[6856 rows x 8 columns]"
      ]
     },
     "execution_count": 65,
     "metadata": {},
     "output_type": "execute_result"
    }
   ],
   "source": [
    "feat"
   ]
  },
  {
   "cell_type": "code",
   "execution_count": 70,
   "metadata": {},
   "outputs": [],
   "source": [
    "def group_sum(DT = 'SMRI', Target = 'c0b', ST = 'FTPC'):\n",
    "    \n",
    "    df = feat[(feat['Data Type']==DT) & (feat['Target']==Target) & (feat['Subset Type']==ST)]\n",
    "    # Calculate the sum of Mean_Abs_Coefficient for each Feature_Group\n",
    "    sum_group = df.groupby('Feature_Group')['Mean_Abs_Coefficient'].sum().reset_index()\n",
    "    # Rename the column for clarity\n",
    "    sum_group.rename(columns={'Mean_Abs_Coefficient': 'total'}, inplace=True)\n",
    "    \n",
    "    # Calculate the count of Mean_Abs_Coefficient for each group\n",
    "    count_group = df.groupby('Feature_Group')['Mean_Abs_Coefficient'].count().reset_index()\n",
    "    count_group.rename(columns={'Mean_Abs_Coefficient': 'Count'}, inplace=True)\n",
    "\n",
    "    # Merge the sum and count dataframes\n",
    "    merged_group = pd.merge(sum_group, count_group, on='Feature_Group')\n",
    "\n",
    "    # Calculate the average\n",
    "    merged_group['avg'] = merged_group['total'] / merged_group['Count']\n",
    "\n",
    "    print(\"Sum, Count, and Average of Mean_Abs_Coefficient per Feature Group:\")\n",
    "    print(merged_group)\n",
    "\n"
   ]
  },
  {
   "cell_type": "code",
   "execution_count": 71,
   "metadata": {},
   "outputs": [],
   "source": [
    "feat = pd.read_csv('cross_validation_results_bayesian/feature_importance/aggregated_feature_importance.csv')\n",
    "feat['Feature_Group'] = feat['Feature'].str[0]"
   ]
  },
  {
   "cell_type": "markdown",
   "metadata": {},
   "source": [
    "## SMRI Targets"
   ]
  },
  {
   "cell_type": "markdown",
   "metadata": {},
   "source": [
    "### C0b"
   ]
  },
  {
   "cell_type": "code",
   "execution_count": 72,
   "metadata": {},
   "outputs": [
    {
     "name": "stdout",
     "output_type": "stream",
     "text": [
      "Sum, Count, and Average of Mean_Abs_Coefficient per Feature Group:\n",
      "  Feature_Group     total  Count       avg\n",
      "0             C  0.262374     31  0.008464\n",
      "1             F  1.602154    167  0.009594\n",
      "2             P  1.039418    124  0.008382\n",
      "3             R  0.035726      1  0.035726\n",
      "4             T  0.100944     12  0.008412\n"
     ]
    }
   ],
   "source": [
    "group_sum('SMRI', 'c0b', 'FTPC')"
   ]
  },
  {
   "cell_type": "code",
   "execution_count": 73,
   "metadata": {},
   "outputs": [
    {
     "name": "stdout",
     "output_type": "stream",
     "text": [
      "Sum, Count, and Average of Mean_Abs_Coefficient per Feature Group:\n",
      "  Feature_Group     total  Count       avg\n",
      "0             F  1.683080    167  0.010078\n",
      "1             P  1.080114    124  0.008711\n",
      "2             R  0.036098      1  0.036098\n",
      "3             T  0.104463     12  0.008705\n"
     ]
    }
   ],
   "source": [
    "group_sum('SMRI', 'c0b', 'FTP')"
   ]
  },
  {
   "cell_type": "code",
   "execution_count": 74,
   "metadata": {},
   "outputs": [
    {
     "name": "stdout",
     "output_type": "stream",
     "text": [
      "Sum, Count, and Average of Mean_Abs_Coefficient per Feature Group:\n",
      "  Feature_Group     total  Count       avg\n",
      "0             C  0.381037     31  0.012292\n",
      "1             F  2.214683    167  0.013262\n",
      "2             R  0.039758      1  0.039758\n",
      "3             T  0.136826     12  0.011402\n"
     ]
    }
   ],
   "source": [
    "group_sum('SMRI', 'c0b', 'FTC')"
   ]
  },
  {
   "cell_type": "markdown",
   "metadata": {},
   "source": [
    "### c2b"
   ]
  },
  {
   "cell_type": "code",
   "execution_count": 75,
   "metadata": {},
   "outputs": [
    {
     "name": "stdout",
     "output_type": "stream",
     "text": [
      "Sum, Count, and Average of Mean_Abs_Coefficient per Feature Group:\n",
      "  Feature_Group     total  Count       avg\n",
      "0             C  0.279439     31  0.009014\n",
      "1             F  1.437108    167  0.008605\n",
      "2             P  0.994828    124  0.008023\n",
      "3             R  0.029660      1  0.029660\n",
      "4             T  0.100093     12  0.008341\n"
     ]
    }
   ],
   "source": [
    "group_sum('SMRI', 'c2b', 'FTPC')"
   ]
  },
  {
   "cell_type": "code",
   "execution_count": 76,
   "metadata": {},
   "outputs": [
    {
     "name": "stdout",
     "output_type": "stream",
     "text": [
      "Sum, Count, and Average of Mean_Abs_Coefficient per Feature Group:\n",
      "  Feature_Group     total  Count       avg\n",
      "0             F  1.492499    167  0.008937\n",
      "1             P  1.030190    124  0.008308\n",
      "2             R  0.029537      1  0.029537\n",
      "3             T  0.106798     12  0.008900\n"
     ]
    }
   ],
   "source": [
    "group_sum('SMRI', 'c2b', 'FTP')"
   ]
  },
  {
   "cell_type": "code",
   "execution_count": 77,
   "metadata": {},
   "outputs": [
    {
     "name": "stdout",
     "output_type": "stream",
     "text": [
      "Sum, Count, and Average of Mean_Abs_Coefficient per Feature Group:\n",
      "  Feature_Group     total  Count       avg\n",
      "0             C  0.408150     31  0.013166\n",
      "1             F  2.092042    167  0.012527\n",
      "2             R  0.034983      1  0.034983\n",
      "3             T  0.157835     12  0.013153\n"
     ]
    }
   ],
   "source": [
    "group_sum('SMRI', 'c2b', 'FTC')"
   ]
  },
  {
   "cell_type": "markdown",
   "metadata": {},
   "source": [
    "### cbcl"
   ]
  },
  {
   "cell_type": "code",
   "execution_count": 78,
   "metadata": {},
   "outputs": [
    {
     "name": "stdout",
     "output_type": "stream",
     "text": [
      "Sum, Count, and Average of Mean_Abs_Coefficient per Feature Group:\n",
      "  Feature_Group     total  Count       avg\n",
      "0             C  0.130494     31  0.004209\n",
      "1             F  0.660855    167  0.003957\n",
      "2             P  0.534305    124  0.004309\n",
      "3             R  0.023920      1  0.023920\n",
      "4             T  0.062919     12  0.005243\n"
     ]
    }
   ],
   "source": [
    "group_sum('SMRI', 'cbcl', 'FTPC')"
   ]
  },
  {
   "cell_type": "code",
   "execution_count": 79,
   "metadata": {},
   "outputs": [
    {
     "name": "stdout",
     "output_type": "stream",
     "text": [
      "Sum, Count, and Average of Mean_Abs_Coefficient per Feature Group:\n",
      "  Feature_Group     total  Count       avg\n",
      "0             F  0.650663    167  0.003896\n",
      "1             P  0.527365    124  0.004253\n",
      "2             R  0.024049      1  0.024049\n",
      "3             T  0.059817     12  0.004985\n"
     ]
    }
   ],
   "source": [
    "group_sum('SMRI', 'cbcl', 'FTP')"
   ]
  },
  {
   "cell_type": "code",
   "execution_count": 80,
   "metadata": {},
   "outputs": [
    {
     "name": "stdout",
     "output_type": "stream",
     "text": [
      "Sum, Count, and Average of Mean_Abs_Coefficient per Feature Group:\n",
      "  Feature_Group     total  Count       avg\n",
      "0             C  0.215599     31  0.006955\n",
      "1             F  1.086627    167  0.006507\n",
      "2             R  0.034082      1  0.034082\n",
      "3             T  0.108709     12  0.009059\n"
     ]
    }
   ],
   "source": [
    "group_sum('SMRI', 'cbcl', 'FTC')"
   ]
  },
  {
   "cell_type": "code",
   "execution_count": 81,
   "metadata": {},
   "outputs": [
    {
     "name": "stdout",
     "output_type": "stream",
     "text": [
      "Sum, Count, and Average of Mean_Abs_Coefficient per Feature Group:\n",
      "  Feature_Group     total  Count       avg\n",
      "0             C  0.158625     31  0.005117\n",
      "1             F  0.881136    167  0.005276\n",
      "2             P  0.732024    124  0.005903\n",
      "3             R  0.037791      1  0.037791\n",
      "4             T  0.106436     12  0.008870\n"
     ]
    }
   ],
   "source": [
    "group_sum('SMRI', 'pca1', 'FTPC')"
   ]
  },
  {
   "cell_type": "code",
   "execution_count": 82,
   "metadata": {},
   "outputs": [
    {
     "name": "stdout",
     "output_type": "stream",
     "text": [
      "Sum, Count, and Average of Mean_Abs_Coefficient per Feature Group:\n",
      "  Feature_Group     total  Count       avg\n",
      "0             F  0.877496    167  0.005254\n",
      "1             P  0.728208    124  0.005873\n",
      "2             R  0.038131      1  0.038131\n",
      "3             T  0.104566     12  0.008714\n"
     ]
    }
   ],
   "source": [
    "group_sum('SMRI', 'pca1', 'FTP')"
   ]
  },
  {
   "cell_type": "code",
   "execution_count": 83,
   "metadata": {},
   "outputs": [
    {
     "name": "stdout",
     "output_type": "stream",
     "text": [
      "Sum, Count, and Average of Mean_Abs_Coefficient per Feature Group:\n",
      "  Feature_Group     total  Count       avg\n",
      "0             C  0.245212     31  0.007910\n",
      "1             F  1.347153    167  0.008067\n",
      "2             R  0.049655      1  0.049655\n",
      "3             T  0.154408     12  0.012867\n"
     ]
    }
   ],
   "source": [
    "group_sum('SMRI', 'pca1', 'FTC')"
   ]
  },
  {
   "cell_type": "markdown",
   "metadata": {},
   "source": [
    "## DTI"
   ]
  },
  {
   "cell_type": "code",
   "execution_count": 84,
   "metadata": {},
   "outputs": [
    {
     "name": "stdout",
     "output_type": "stream",
     "text": [
      "Sum, Count, and Average of Mean_Abs_Coefficient per Feature Group:\n",
      "  Feature_Group     total  Count       avg\n",
      "0             C  0.190375     31  0.006141\n",
      "1             F  1.136893    169  0.006727\n",
      "2             P  0.864292    128  0.006752\n",
      "3             R  0.013458      1  0.013458\n",
      "4             T  0.082494     12  0.006875\n"
     ]
    }
   ],
   "source": [
    "## c0b\n",
    "group_sum('DTI', 'c0b', 'FTPC')"
   ]
  },
  {
   "cell_type": "code",
   "execution_count": 85,
   "metadata": {},
   "outputs": [
    {
     "name": "stdout",
     "output_type": "stream",
     "text": [
      "Sum, Count, and Average of Mean_Abs_Coefficient per Feature Group:\n",
      "  Feature_Group     total  Count       avg\n",
      "0             F  1.153363    169  0.006825\n",
      "1             P  0.876386    128  0.006847\n",
      "2             R  0.013489      1  0.013489\n",
      "3             T  0.082706     12  0.006892\n"
     ]
    }
   ],
   "source": [
    "group_sum('DTI', 'c0b', 'FTP')"
   ]
  },
  {
   "cell_type": "code",
   "execution_count": 86,
   "metadata": {},
   "outputs": [
    {
     "name": "stdout",
     "output_type": "stream",
     "text": [
      "Sum, Count, and Average of Mean_Abs_Coefficient per Feature Group:\n",
      "  Feature_Group     total  Count       avg\n",
      "0             C  0.237947     31  0.007676\n",
      "1             F  1.409596    169  0.008341\n",
      "2             R  0.015386      1  0.015386\n",
      "3             T  0.105876     12  0.008823\n"
     ]
    }
   ],
   "source": [
    "group_sum('DTI', 'c0b', 'FTC')"
   ]
  },
  {
   "cell_type": "code",
   "execution_count": null,
   "metadata": {},
   "outputs": [],
   "source": []
  }
 ],
 "metadata": {
  "kernelspec": {
   "display_name": "CognitionPrediction",
   "language": "python",
   "name": "python3"
  },
  "language_info": {
   "codemirror_mode": {
    "name": "ipython",
    "version": 3
   },
   "file_extension": ".py",
   "mimetype": "text/x-python",
   "name": "python",
   "nbconvert_exporter": "python",
   "pygments_lexer": "ipython3",
   "version": "undefined.undefined.undefined"
  }
 },
 "nbformat": 4,
 "nbformat_minor": 2
}
