{
 "cells": [
  {
   "cell_type": "code",
   "execution_count": 6,
   "metadata": {},
   "outputs": [],
   "source": [
    "import scipy.stats as stats\n",
    "\n",
    "def returnPVal(mean, std, samples):\n",
    "\n",
    "\n",
    "    # Calculate t-statistic\n",
    "    t_stat = mean / (std / (samples**0.5))\n",
    "\n",
    "    # Degrees of freedom\n",
    "    df = samples - 1\n",
    "\n",
    "    # Calculate one-tailed p-value\n",
    "    p_value = 1 - stats.t.cdf(t_stat, df)\n",
    "\n",
    "    print(f\"T-statistic: {t_stat}\")\n",
    "    print(f\"P-value: {p_value}\")"
   ]
  },
  {
   "cell_type": "code",
   "execution_count": 5,
   "metadata": {},
   "outputs": [
    {
     "name": "stdout",
     "output_type": "stream",
     "text": [
      "T-statistic: 25.372526438569043\n",
      "P-value: 7.1644407142468225e-06\n",
      "95 percent confident\n"
     ]
    }
   ],
   "source": [
    "returnPVal(0.2224, 0.0196, 5)"
   ]
  },
  {
   "cell_type": "code",
   "execution_count": null,
   "metadata": {},
   "outputs": [],
   "source": []
  }
 ],
 "metadata": {
  "kernelspec": {
   "display_name": "CognitionPrediction",
   "language": "python",
   "name": "python3"
  },
  "language_info": {
   "codemirror_mode": {
    "name": "ipython",
    "version": 3
   },
   "file_extension": ".py",
   "mimetype": "text/x-python",
   "name": "python",
   "nbconvert_exporter": "python",
   "pygments_lexer": "ipython3",
   "version": "3.9.7"
  }
 },
 "nbformat": 4,
 "nbformat_minor": 2
}
