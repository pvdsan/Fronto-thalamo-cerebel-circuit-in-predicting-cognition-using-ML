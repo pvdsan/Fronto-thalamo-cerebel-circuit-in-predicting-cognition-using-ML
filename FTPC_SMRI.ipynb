{
 "cells": [
  {
   "cell_type": "code",
   "execution_count": 1,
   "metadata": {},
   "outputs": [],
   "source": [
    "import numpy as np \n",
    "import pandas as pd \n",
    "import matplotlib.pyplot as plt \n",
    "from polyssifier import polyr"
   ]
  },
  {
   "cell_type": "code",
   "execution_count": 2,
   "metadata": {},
   "outputs": [],
   "source": [
    "smri_cognition = pd.read_csv('/data/users4/sdeshpande8/ROI_Mean_Analysis/SMRI_Mean_ROI_Cognition.csv')\n",
    "smri_cbcl = pd.read_csv('/data/users4/sdeshpande8/ROI_Mean_Analysis/SMRI_Mean_ROI_CBCL.csv')\n",
    "smri_ksad = pd.read_csv('/data/users4/sdeshpande8/ROI_Mean_Analysis/SMRI_Mean_ROI_KSAD.csv')\n",
    "smri_pca1 = pd.read_csv('/data/users4/sdeshpande8/ROI_Mean_Analysis/SMRI_Mean_ROI_PCA1.csv')\n",
    "\n",
    "\n",
    "## Getting the Y values\n",
    "y3_attention = smri_cognition['tfmri_nb_all_beh_c0b_rate']\n",
    "y4_working_memory = smri_cognition['tfmri_nb_all_beh_c2b_rate']\n",
    "y_cbcl = smri_cbcl['cbcl_scr_syn_attention_r']\n",
    "y_ksad = smri_ksad['Sum_KASD_14_atten']\n",
    "y_pca1 = smri_pca1['Ave.Standarized_inAttention']\n",
    "\n",
    "\n",
    "## Getting X Values\n",
    "X_cog = smri_cognition.drop(columns=['src_subject_id','tfmri_nb_all_beh_c0b_mrt', 'tfmri_nb_all_beh_c2b_stdrt', 'tfmri_nb_all_beh_c0b_rate', 'tfmri_nb_all_beh_c2b_rate'])\n",
    "X_cbcl = smri_cbcl.drop(columns = ['src_subject_id', 'cbcl_scr_syn_attention_r'])\n",
    "X_ksad = smri_ksad.drop(columns = ['src_subject_id', 'Sum_KASD_14_atten'])\n",
    "X_pca1 = smri_pca1.drop(columns = ['src_subject_id', 'Ave.Standarized_inAttention'])"
   ]
  },
  {
   "cell_type": "markdown",
   "metadata": {},
   "source": [
    "## Y3 Attention "
   ]
  },
  {
   "cell_type": "code",
   "execution_count": 7,
   "metadata": {},
   "outputs": [
    {
     "name": "stderr",
     "output_type": "stream",
     "text": [
      "2024-09-09 14:57:05,299 - polyssifier - INFO - Building classifiers ...\n",
      "2024-09-09 14:57:05,309 - polyssifier - INFO - Initialization, done.\n",
      "2024-09-09 14:57:05,823 - polyssifier - INFO - Training Linear Regression 0\n",
      "2024-09-09 14:57:07,248 - polyssifier - INFO - Linear Regression          0: Train 0.15/Test -0.01, 1.42 sec\n",
      "2024-09-09 14:57:07,643 - polyssifier - INFO - Training Linear Regression 1\n",
      "2024-09-09 14:57:08,643 - polyssifier - INFO - Linear Regression          1: Train 0.15/Test -0.01, 1.00 sec\n",
      "2024-09-09 14:57:08,986 - polyssifier - INFO - Training Linear Regression 2\n",
      "2024-09-09 14:57:09,777 - polyssifier - INFO - Linear Regression          2: Train 0.14/Test -0.05, 0.79 sec\n",
      "2024-09-09 14:57:10,119 - polyssifier - INFO - Training Linear Regression 3\n",
      "2024-09-09 14:57:10,913 - polyssifier - INFO - Linear Regression          3: Train 0.15/Test -0.05, 0.79 sec\n",
      "2024-09-09 14:57:11,332 - polyssifier - INFO - Training Linear Regression 4\n",
      "2024-09-09 14:57:12,139 - polyssifier - INFO - Linear Regression          4: Train 0.15/Test -0.06, 0.81 sec\n",
      "2024-09-09 14:57:12,610 - polyssifier - INFO - Training Bayesian Ridge 0\n",
      "2024-09-09 14:57:14,445 - polyssifier - INFO - Bayesian Ridge             0: Train 0.08/Test 0.05, 1.83 sec\n",
      "2024-09-09 14:57:14,844 - polyssifier - INFO - Training Bayesian Ridge 1\n",
      "2024-09-09 14:57:16,043 - polyssifier - INFO - Bayesian Ridge             1: Train 0.08/Test 0.06, 1.20 sec\n",
      "2024-09-09 14:57:16,524 - polyssifier - INFO - Training Bayesian Ridge 2\n",
      "2024-09-09 14:57:17,834 - polyssifier - INFO - Bayesian Ridge             2: Train 0.08/Test 0.06, 1.31 sec\n",
      "2024-09-09 14:57:18,240 - polyssifier - INFO - Training Bayesian Ridge 3\n",
      "2024-09-09 14:57:19,558 - polyssifier - INFO - Bayesian Ridge             3: Train 0.09/Test 0.05, 1.32 sec\n",
      "2024-09-09 14:57:20,013 - polyssifier - INFO - Training Bayesian Ridge 4\n",
      "2024-09-09 14:57:21,264 - polyssifier - INFO - Bayesian Ridge             4: Train 0.09/Test 0.04, 1.25 sec\n",
      "2024-09-09 14:57:21,653 - polyssifier - INFO - Training Ridge 0\n",
      "2024-09-09 14:57:26,216 - polyssifier - INFO - Ridge                      0: Train 0.14/Test 0.00, 4.56 sec\n",
      "2024-09-09 14:57:26,553 - polyssifier - INFO - Training Ridge 1\n",
      "2024-09-09 14:57:31,035 - polyssifier - INFO - Ridge                      1: Train 0.15/Test 0.00, 4.48 sec\n",
      "2024-09-09 14:57:31,515 - polyssifier - INFO - Training Ridge 2\n",
      "2024-09-09 14:57:35,828 - polyssifier - INFO - Ridge                      2: Train 0.14/Test -0.04, 4.31 sec\n",
      "2024-09-09 14:57:36,211 - polyssifier - INFO - Training Ridge 3\n",
      "2024-09-09 14:57:40,725 - polyssifier - INFO - Ridge                      3: Train 0.15/Test -0.04, 4.51 sec\n",
      "2024-09-09 14:57:41,118 - polyssifier - INFO - Training Ridge 4\n",
      "2024-09-09 14:57:45,397 - polyssifier - INFO - Ridge                      4: Train 0.15/Test -0.04, 4.28 sec\n",
      "2024-09-09 14:57:45,812 - polyssifier - INFO - Training OrthogonalMatchingPursuit 0\n",
      "2024-09-09 14:57:46,648 - polyssifier - INFO - OrthogonalMatchingPursuit  0: Train 0.08/Test 0.04, 0.84 sec\n",
      "2024-09-09 14:57:47,043 - polyssifier - INFO - Training OrthogonalMatchingPursuit 1\n",
      "2024-09-09 14:57:47,981 - polyssifier - INFO - OrthogonalMatchingPursuit  1: Train 0.08/Test 0.05, 0.94 sec\n",
      "2024-09-09 14:57:48,377 - polyssifier - INFO - Training OrthogonalMatchingPursuit 2\n",
      "2024-09-09 14:57:49,259 - polyssifier - INFO - OrthogonalMatchingPursuit  2: Train 0.08/Test 0.06, 0.88 sec\n",
      "2024-09-09 14:57:49,731 - polyssifier - INFO - Training OrthogonalMatchingPursuit 3\n",
      "2024-09-09 14:57:50,612 - polyssifier - INFO - OrthogonalMatchingPursuit  3: Train 0.09/Test 0.02, 0.88 sec\n",
      "2024-09-09 14:57:51,009 - polyssifier - INFO - Training OrthogonalMatchingPursuit 4\n",
      "2024-09-09 14:57:51,819 - polyssifier - INFO - OrthogonalMatchingPursuit  4: Train 0.09/Test 0.02, 0.81 sec\n"
     ]
    },
    {
     "name": "stdout",
     "output_type": "stream",
     "text": [
      "                                     mean       std       min       max\n",
      "Linear Regression         train  0.147130  0.005068  0.139656  0.152528\n",
      "                          test  -0.035430  0.025338 -0.058800 -0.006827\n",
      "Bayesian Ridge            train  0.082837  0.003909  0.078465  0.087092\n",
      "                          test   0.052850  0.007480  0.044235  0.061183\n",
      "Ridge                     train  0.146205  0.005027  0.138905  0.151503\n",
      "                          test  -0.022566  0.024098 -0.042998  0.004833\n",
      "OrthogonalMatchingPursuit train  0.083449  0.003262  0.080242  0.086997\n",
      "                          test   0.037634  0.019862  0.016653  0.059726\n",
      "Median                    train  0.133756  0.004744  0.127578  0.139128\n",
      "                          test   0.030384  0.017108  0.011610  0.043580\n"
     ]
    }
   ],
   "source": [
    "report_attention = polyr(X_cog.to_numpy(),\n",
    "               y3_attention.to_numpy(),\n",
    "               n_folds = 5,\n",
    "               num_degrees=2,\n",
    "               exclude = ['GaussianProcessRegressor', 'PassiveAggressiveRegressor', 'Lasso', 'Lars', 'LassoLars', 'ElasticNet'],\n",
    "               scale=True,\n",
    "               feature_selection=False,\n",
    "               scoring='r2'\n",
    "               )"
   ]
  },
  {
   "cell_type": "markdown",
   "metadata": {},
   "source": [
    "## Y4 Working Memory"
   ]
  },
  {
   "cell_type": "code",
   "execution_count": 8,
   "metadata": {},
   "outputs": [
    {
     "name": "stderr",
     "output_type": "stream",
     "text": [
      "2024-09-09 14:58:15,787 - polyssifier - INFO - Building classifiers ...\n",
      "2024-09-09 14:58:15,796 - polyssifier - INFO - Initialization, done.\n",
      "2024-09-09 14:58:16,315 - polyssifier - INFO - Training Linear Regression 0\n",
      "2024-09-09 14:58:17,565 - polyssifier - INFO - Linear Regression          0: Train 0.15/Test -0.00, 1.25 sec\n",
      "2024-09-09 14:58:17,973 - polyssifier - INFO - Training Linear Regression 1\n",
      "2024-09-09 14:58:18,779 - polyssifier - INFO - Linear Regression          1: Train 0.16/Test -0.03, 0.81 sec\n",
      "2024-09-09 14:58:19,234 - polyssifier - INFO - Training Linear Regression 2\n",
      "2024-09-09 14:58:20,096 - polyssifier - INFO - Linear Regression          2: Train 0.15/Test -0.02, 0.86 sec\n",
      "2024-09-09 14:58:20,475 - polyssifier - INFO - Training Linear Regression 3\n",
      "2024-09-09 14:58:21,367 - polyssifier - INFO - Linear Regression          3: Train 0.16/Test -0.03, 0.89 sec\n",
      "2024-09-09 14:58:21,740 - polyssifier - INFO - Training Linear Regression 4\n",
      "2024-09-09 14:58:22,534 - polyssifier - INFO - Linear Regression          4: Train 0.16/Test -0.05, 0.79 sec\n",
      "2024-09-09 14:58:22,986 - polyssifier - INFO - Training Bayesian Ridge 0\n",
      "2024-09-09 14:58:24,655 - polyssifier - INFO - Bayesian Ridge             0: Train 0.09/Test 0.07, 1.67 sec\n",
      "2024-09-09 14:58:25,074 - polyssifier - INFO - Training Bayesian Ridge 1\n",
      "2024-09-09 14:58:26,516 - polyssifier - INFO - Bayesian Ridge             1: Train 0.09/Test 0.05, 1.44 sec\n",
      "2024-09-09 14:58:26,845 - polyssifier - INFO - Training Bayesian Ridge 2\n",
      "2024-09-09 14:58:28,261 - polyssifier - INFO - Bayesian Ridge             2: Train 0.09/Test 0.06, 1.42 sec\n",
      "2024-09-09 14:58:28,655 - polyssifier - INFO - Training Bayesian Ridge 3\n",
      "2024-09-09 14:58:29,880 - polyssifier - INFO - Bayesian Ridge             3: Train 0.09/Test 0.06, 1.23 sec\n",
      "2024-09-09 14:58:30,312 - polyssifier - INFO - Training Bayesian Ridge 4\n",
      "2024-09-09 14:58:31,606 - polyssifier - INFO - Bayesian Ridge             4: Train 0.09/Test 0.05, 1.29 sec\n",
      "2024-09-09 14:58:32,063 - polyssifier - INFO - Training Ridge 0\n",
      "2024-09-09 14:58:36,396 - polyssifier - INFO - Ridge                      0: Train 0.15/Test 0.01, 4.33 sec\n",
      "2024-09-09 14:58:36,793 - polyssifier - INFO - Training Ridge 1\n",
      "2024-09-09 14:58:41,696 - polyssifier - INFO - Ridge                      1: Train 0.16/Test -0.02, 4.90 sec\n",
      "2024-09-09 14:58:42,130 - polyssifier - INFO - Training Ridge 2\n",
      "2024-09-09 14:58:46,604 - polyssifier - INFO - Ridge                      2: Train 0.15/Test 0.00, 4.47 sec\n",
      "2024-09-09 14:58:46,993 - polyssifier - INFO - Training Ridge 3\n",
      "2024-09-09 14:58:51,887 - polyssifier - INFO - Ridge                      3: Train 0.16/Test -0.02, 4.89 sec\n",
      "2024-09-09 14:58:52,273 - polyssifier - INFO - Training Ridge 4\n",
      "2024-09-09 14:58:57,039 - polyssifier - INFO - Ridge                      4: Train 0.16/Test -0.03, 4.77 sec\n",
      "2024-09-09 14:58:57,432 - polyssifier - INFO - Training OrthogonalMatchingPursuit 0\n",
      "2024-09-09 14:58:58,315 - polyssifier - INFO - OrthogonalMatchingPursuit  0: Train 0.09/Test 0.06, 0.88 sec\n",
      "2024-09-09 14:58:58,727 - polyssifier - INFO - Training OrthogonalMatchingPursuit 1\n",
      "2024-09-09 14:58:59,575 - polyssifier - INFO - OrthogonalMatchingPursuit  1: Train 0.09/Test 0.04, 0.85 sec\n",
      "2024-09-09 14:58:59,961 - polyssifier - INFO - Training OrthogonalMatchingPursuit 2\n",
      "2024-09-09 14:59:00,803 - polyssifier - INFO - OrthogonalMatchingPursuit  2: Train 0.09/Test 0.05, 0.84 sec\n",
      "2024-09-09 14:59:01,197 - polyssifier - INFO - Training OrthogonalMatchingPursuit 3\n",
      "2024-09-09 14:59:02,214 - polyssifier - INFO - OrthogonalMatchingPursuit  3: Train 0.09/Test 0.04, 1.02 sec\n",
      "2024-09-09 14:59:02,634 - polyssifier - INFO - Training OrthogonalMatchingPursuit 4\n",
      "2024-09-09 14:59:03,505 - polyssifier - INFO - OrthogonalMatchingPursuit  4: Train 0.09/Test 0.03, 0.87 sec\n"
     ]
    },
    {
     "name": "stdout",
     "output_type": "stream",
     "text": [
      "                                     mean       std       min       max\n",
      "Linear Regression         train  0.158588  0.005023  0.152367  0.163612\n",
      "                          test  -0.025426  0.017065 -0.046268 -0.002045\n",
      "Bayesian Ridge            train  0.089478  0.003607  0.085137  0.093756\n",
      "                          test   0.060903  0.010388  0.048395  0.074995\n",
      "Ridge                     train  0.157289  0.004979  0.151226  0.162207\n",
      "                          test  -0.011236  0.018551 -0.031586  0.011675\n",
      "OrthogonalMatchingPursuit train  0.091684  0.003739  0.085818  0.094722\n",
      "                          test   0.043666  0.012550  0.025562  0.057958\n",
      "Median                    train  0.143720  0.004443  0.138718  0.147350\n",
      "                          test   0.039732  0.017400  0.021190  0.059654\n"
     ]
    }
   ],
   "source": [
    "report_working_memory = polyr(X_cog.to_numpy(),\n",
    "               y4_working_memory.to_numpy(),\n",
    "               n_folds = 5,\n",
    "               num_degrees=2,\n",
    "               exclude = ['GaussianProcessRegressor', 'PassiveAggressiveRegressor', 'Lasso', 'Lars', 'LassoLars', 'ElasticNet'],\n",
    "               scale=True,\n",
    "               feature_selection=False,\n",
    "               scoring='r2'\n",
    "               )"
   ]
  },
  {
   "cell_type": "markdown",
   "metadata": {},
   "source": [
    "## CBCL "
   ]
  },
  {
   "cell_type": "markdown",
   "metadata": {},
   "source": [
    "## "
   ]
  },
  {
   "cell_type": "code",
   "execution_count": 9,
   "metadata": {},
   "outputs": [
    {
     "name": "stderr",
     "output_type": "stream",
     "text": [
      "2024-09-09 14:59:52,204 - polyssifier - INFO - Building classifiers ...\n",
      "2024-09-09 14:59:52,215 - polyssifier - INFO - Initialization, done.\n",
      "2024-09-09 14:59:52,729 - polyssifier - INFO - Training Linear Regression 0\n",
      "2024-09-09 14:59:53,887 - polyssifier - INFO - Linear Regression          0: Train 0.10/Test -0.08, 1.16 sec\n",
      "2024-09-09 14:59:54,299 - polyssifier - INFO - Training Linear Regression 1\n",
      "2024-09-09 14:59:55,239 - polyssifier - INFO - Linear Regression          1: Train 0.10/Test -0.04, 0.94 sec\n",
      "2024-09-09 14:59:55,654 - polyssifier - INFO - Training Linear Regression 2\n",
      "2024-09-09 14:59:56,661 - polyssifier - INFO - Linear Regression          2: Train 0.11/Test -0.11, 1.01 sec\n",
      "2024-09-09 14:59:57,032 - polyssifier - INFO - Training Linear Regression 3\n",
      "2024-09-09 14:59:57,940 - polyssifier - INFO - Linear Regression          3: Train 0.10/Test -0.08, 0.91 sec\n",
      "2024-09-09 14:59:58,393 - polyssifier - INFO - Training Linear Regression 4\n",
      "2024-09-09 14:59:59,267 - polyssifier - INFO - Linear Regression          4: Train 0.11/Test -0.09, 0.87 sec\n",
      "2024-09-09 14:59:59,678 - polyssifier - INFO - Training Bayesian Ridge 0\n",
      "2024-09-09 15:00:01,021 - polyssifier - INFO - Bayesian Ridge             0: Train 0.03/Test 0.01, 1.34 sec\n",
      "2024-09-09 15:00:01,484 - polyssifier - INFO - Training Bayesian Ridge 1\n",
      "2024-09-09 15:00:02,654 - polyssifier - INFO - Bayesian Ridge             1: Train 0.03/Test 0.01, 1.17 sec\n",
      "2024-09-09 15:00:03,067 - polyssifier - INFO - Training Bayesian Ridge 2\n",
      "2024-09-09 15:00:04,421 - polyssifier - INFO - Bayesian Ridge             2: Train 0.03/Test 0.01, 1.35 sec\n",
      "2024-09-09 15:00:04,872 - polyssifier - INFO - Training Bayesian Ridge 3\n",
      "2024-09-09 15:00:06,208 - polyssifier - INFO - Bayesian Ridge             3: Train 0.03/Test 0.01, 1.34 sec\n",
      "2024-09-09 15:00:06,620 - polyssifier - INFO - Training Bayesian Ridge 4\n",
      "2024-09-09 15:00:07,864 - polyssifier - INFO - Bayesian Ridge             4: Train 0.03/Test 0.01, 1.24 sec\n",
      "2024-09-09 15:00:08,274 - polyssifier - INFO - Training Ridge 0\n",
      "2024-09-09 15:00:13,006 - polyssifier - INFO - Ridge                      0: Train 0.10/Test -0.07, 4.73 sec\n",
      "2024-09-09 15:00:13,419 - polyssifier - INFO - Training Ridge 1\n",
      "2024-09-09 15:00:18,054 - polyssifier - INFO - Ridge                      1: Train 0.10/Test -0.04, 4.64 sec\n",
      "2024-09-09 15:00:18,466 - polyssifier - INFO - Training Ridge 2\n",
      "2024-09-09 15:00:23,145 - polyssifier - INFO - Ridge                      2: Train 0.10/Test -0.09, 4.68 sec\n",
      "2024-09-09 15:00:23,571 - polyssifier - INFO - Training Ridge 3\n",
      "2024-09-09 15:00:28,470 - polyssifier - INFO - Ridge                      3: Train 0.10/Test -0.06, 4.90 sec\n",
      "2024-09-09 15:00:28,882 - polyssifier - INFO - Training Ridge 4\n",
      "2024-09-09 15:00:33,803 - polyssifier - INFO - Ridge                      4: Train 0.11/Test -0.07, 4.92 sec\n",
      "2024-09-09 15:00:34,234 - polyssifier - INFO - Training OrthogonalMatchingPursuit 0\n",
      "2024-09-09 15:00:34,931 - polyssifier - INFO - OrthogonalMatchingPursuit  0: Train 0.04/Test -0.02, 0.70 sec\n",
      "2024-09-09 15:00:35,346 - polyssifier - INFO - Training OrthogonalMatchingPursuit 1\n",
      "2024-09-09 15:00:36,266 - polyssifier - INFO - OrthogonalMatchingPursuit  1: Train 0.04/Test -0.00, 0.92 sec\n",
      "2024-09-09 15:00:36,688 - polyssifier - INFO - Training OrthogonalMatchingPursuit 2\n",
      "2024-09-09 15:00:37,511 - polyssifier - INFO - OrthogonalMatchingPursuit  2: Train 0.04/Test -0.01, 0.82 sec\n",
      "2024-09-09 15:00:37,958 - polyssifier - INFO - Training OrthogonalMatchingPursuit 3\n",
      "2024-09-09 15:00:38,804 - polyssifier - INFO - OrthogonalMatchingPursuit  3: Train 0.04/Test -0.01, 0.85 sec\n",
      "2024-09-09 15:00:39,217 - polyssifier - INFO - Training OrthogonalMatchingPursuit 4\n",
      "2024-09-09 15:00:40,142 - polyssifier - INFO - OrthogonalMatchingPursuit  4: Train 0.04/Test -0.00, 0.92 sec\n"
     ]
    },
    {
     "name": "stdout",
     "output_type": "stream",
     "text": [
      "                                     mean       std       min       max\n",
      "Linear Regression         train  0.104321  0.001980  0.101971  0.106630\n",
      "                          test  -0.078071  0.024456 -0.108134 -0.040493\n",
      "Bayesian Ridge            train  0.027375  0.001774  0.025221  0.029652\n",
      "                          test   0.008314  0.002042  0.005803  0.011186\n",
      "Ridge                     train  0.103248  0.001891  0.100975  0.105650\n",
      "                          test  -0.066325  0.020070 -0.092551 -0.037234\n",
      "OrthogonalMatchingPursuit train  0.041213  0.001856  0.039159  0.044243\n",
      "                          test  -0.007367  0.006813 -0.017451 -0.000804\n",
      "Median                    train  0.089839  0.001783  0.087204  0.091581\n",
      "                          test  -0.015618  0.008055 -0.023796 -0.002745\n"
     ]
    }
   ],
   "source": [
    "report_cbcl = polyr(X_cbcl.to_numpy(),\n",
    "               y_cbcl.to_numpy(),\n",
    "               n_folds = 5,\n",
    "               num_degrees=2,\n",
    "               exclude = ['GaussianProcessRegressor', 'PassiveAggressiveRegressor', 'Lasso', 'Lars', 'LassoLars', 'ElasticNet'],\n",
    "               scale=True,\n",
    "               feature_selection=False,\n",
    "               scoring='r2'\n",
    "               )"
   ]
  },
  {
   "cell_type": "markdown",
   "metadata": {},
   "source": [
    "## KSAD "
   ]
  },
  {
   "cell_type": "code",
   "execution_count": 10,
   "metadata": {},
   "outputs": [
    {
     "name": "stderr",
     "output_type": "stream",
     "text": [
      "2024-09-09 15:01:07,114 - polyssifier - INFO - Building classifiers ...\n",
      "2024-09-09 15:01:07,124 - polyssifier - INFO - Initialization, done.\n",
      "2024-09-09 15:01:07,467 - polyssifier - INFO - Training Linear Regression 0\n",
      "2024-09-09 15:01:08,355 - polyssifier - INFO - Linear Regression          0: Train 0.15/Test -0.14, 0.89 sec\n",
      "2024-09-09 15:01:08,637 - polyssifier - INFO - Training Linear Regression 1\n",
      "2024-09-09 15:01:09,358 - polyssifier - INFO - Linear Regression          1: Train 0.15/Test -0.08, 0.72 sec\n",
      "2024-09-09 15:01:09,638 - polyssifier - INFO - Training Linear Regression 2\n",
      "2024-09-09 15:01:10,345 - polyssifier - INFO - Linear Regression          2: Train 0.16/Test -0.16, 0.71 sec\n",
      "2024-09-09 15:01:10,633 - polyssifier - INFO - Training Linear Regression 3\n",
      "2024-09-09 15:01:11,327 - polyssifier - INFO - Linear Regression          3: Train 0.15/Test -0.16, 0.69 sec\n",
      "2024-09-09 15:01:11,601 - polyssifier - INFO - Training Linear Regression 4\n",
      "2024-09-09 15:01:12,139 - polyssifier - INFO - Linear Regression          4: Train 0.16/Test -0.16, 0.54 sec\n",
      "2024-09-09 15:01:12,377 - polyssifier - INFO - Training Bayesian Ridge 0\n",
      "2024-09-09 15:01:13,322 - polyssifier - INFO - Bayesian Ridge             0: Train 0.03/Test 0.01, 0.94 sec\n",
      "2024-09-09 15:01:13,594 - polyssifier - INFO - Training Bayesian Ridge 1\n",
      "2024-09-09 15:01:14,509 - polyssifier - INFO - Bayesian Ridge             1: Train 0.03/Test 0.00, 0.91 sec\n",
      "2024-09-09 15:01:14,810 - polyssifier - INFO - Training Bayesian Ridge 2\n",
      "2024-09-09 15:01:15,744 - polyssifier - INFO - Bayesian Ridge             2: Train 0.04/Test 0.00, 0.93 sec\n",
      "2024-09-09 15:01:15,964 - polyssifier - INFO - Training Bayesian Ridge 3\n",
      "2024-09-09 15:01:17,005 - polyssifier - INFO - Bayesian Ridge             3: Train 0.03/Test 0.01, 1.04 sec\n",
      "2024-09-09 15:01:17,216 - polyssifier - INFO - Training Bayesian Ridge 4\n",
      "2024-09-09 15:01:18,203 - polyssifier - INFO - Bayesian Ridge             4: Train 0.03/Test 0.01, 0.99 sec\n",
      "2024-09-09 15:01:18,472 - polyssifier - INFO - Training Ridge 0\n",
      "2024-09-09 15:01:20,801 - polyssifier - INFO - Ridge                      0: Train 0.15/Test -0.11, 2.33 sec\n",
      "2024-09-09 15:01:21,048 - polyssifier - INFO - Training Ridge 1\n",
      "2024-09-09 15:01:23,337 - polyssifier - INFO - Ridge                      1: Train 0.15/Test -0.07, 2.29 sec\n",
      "2024-09-09 15:01:23,547 - polyssifier - INFO - Training Ridge 2\n",
      "2024-09-09 15:01:25,836 - polyssifier - INFO - Ridge                      2: Train 0.16/Test -0.13, 2.29 sec\n",
      "2024-09-09 15:01:26,051 - polyssifier - INFO - Training Ridge 3\n",
      "2024-09-09 15:01:28,299 - polyssifier - INFO - Ridge                      3: Train 0.15/Test -0.11, 2.25 sec\n",
      "2024-09-09 15:01:28,509 - polyssifier - INFO - Training Ridge 4\n",
      "2024-09-09 15:01:30,777 - polyssifier - INFO - Ridge                      4: Train 0.15/Test -0.13, 2.27 sec\n",
      "2024-09-09 15:01:31,016 - polyssifier - INFO - Training OrthogonalMatchingPursuit 0\n",
      "2024-09-09 15:01:31,446 - polyssifier - INFO - OrthogonalMatchingPursuit  0: Train 0.06/Test 0.00, 0.43 sec\n",
      "2024-09-09 15:01:31,660 - polyssifier - INFO - Training OrthogonalMatchingPursuit 1\n",
      "2024-09-09 15:01:32,109 - polyssifier - INFO - OrthogonalMatchingPursuit  1: Train 0.06/Test -0.03, 0.45 sec\n",
      "2024-09-09 15:01:32,358 - polyssifier - INFO - Training OrthogonalMatchingPursuit 2\n",
      "2024-09-09 15:01:32,795 - polyssifier - INFO - OrthogonalMatchingPursuit  2: Train 0.07/Test -0.04, 0.44 sec\n",
      "2024-09-09 15:01:33,010 - polyssifier - INFO - Training OrthogonalMatchingPursuit 3\n",
      "2024-09-09 15:01:33,445 - polyssifier - INFO - OrthogonalMatchingPursuit  3: Train 0.06/Test -0.01, 0.44 sec\n",
      "2024-09-09 15:01:33,653 - polyssifier - INFO - Training OrthogonalMatchingPursuit 4\n",
      "2024-09-09 15:01:34,131 - polyssifier - INFO - OrthogonalMatchingPursuit  4: Train 0.06/Test -0.00, 0.48 sec\n"
     ]
    },
    {
     "name": "stdout",
     "output_type": "stream",
     "text": [
      "                                     mean       std       min       max\n",
      "Linear Regression         train  0.154752  0.005476  0.149685  0.163250\n",
      "                          test  -0.139558  0.034192 -0.160251 -0.079739\n",
      "Bayesian Ridge            train  0.030609  0.004885  0.026117  0.037746\n",
      "                          test   0.006757  0.004896  0.001544  0.012110\n",
      "Ridge                     train  0.151888  0.004946  0.147394  0.159585\n",
      "                          test  -0.109421  0.025947 -0.132564 -0.066137\n",
      "OrthogonalMatchingPursuit train  0.059451  0.003600  0.055150  0.065005\n",
      "                          test  -0.014048  0.017173 -0.036796  0.004488\n",
      "Median                    train  0.131722  0.004566  0.127318  0.139062\n",
      "                          test  -0.033796  0.013346 -0.054852 -0.019689\n"
     ]
    }
   ],
   "source": [
    "report_ksad = polyr(X_ksad.to_numpy(),\n",
    "               y_ksad.to_numpy(),\n",
    "               n_folds = 5,\n",
    "               num_degrees=2,\n",
    "               exclude = ['GaussianProcessRegressor', 'PassiveAggressiveRegressor', 'Lasso', 'Lars', 'LassoLars', 'ElasticNet'],\n",
    "               scale=True,\n",
    "               feature_selection=False,\n",
    "               scoring='r2'\n",
    "               )"
   ]
  },
  {
   "cell_type": "markdown",
   "metadata": {},
   "source": [
    "## PCA1"
   ]
  },
  {
   "cell_type": "code",
   "execution_count": 11,
   "metadata": {},
   "outputs": [
    {
     "name": "stderr",
     "output_type": "stream",
     "text": [
      "2024-09-09 15:02:08,892 - polyssifier - INFO - Building classifiers ...\n",
      "2024-09-09 15:02:08,905 - polyssifier - INFO - Initialization, done.\n",
      "2024-09-09 15:02:09,248 - polyssifier - INFO - Training Linear Regression 0\n",
      "2024-09-09 15:02:10,107 - polyssifier - INFO - Linear Regression          0: Train 0.16/Test -0.13, 0.86 sec\n",
      "2024-09-09 15:02:10,443 - polyssifier - INFO - Training Linear Regression 1\n",
      "2024-09-09 15:02:11,022 - polyssifier - INFO - Linear Regression          1: Train 0.16/Test -0.06, 0.58 sec\n",
      "2024-09-09 15:02:11,294 - polyssifier - INFO - Training Linear Regression 2\n",
      "2024-09-09 15:02:11,860 - polyssifier - INFO - Linear Regression          2: Train 0.17/Test -0.15, 0.57 sec\n",
      "2024-09-09 15:02:12,139 - polyssifier - INFO - Training Linear Regression 3\n",
      "2024-09-09 15:02:12,735 - polyssifier - INFO - Linear Regression          3: Train 0.16/Test -0.14, 0.60 sec\n",
      "2024-09-09 15:02:13,007 - polyssifier - INFO - Training Linear Regression 4\n",
      "2024-09-09 15:02:13,560 - polyssifier - INFO - Linear Regression          4: Train 0.17/Test -0.16, 0.55 sec\n",
      "2024-09-09 15:02:13,811 - polyssifier - INFO - Training Bayesian Ridge 0\n",
      "2024-09-09 15:02:14,883 - polyssifier - INFO - Bayesian Ridge             0: Train 0.04/Test 0.02, 1.07 sec\n",
      "2024-09-09 15:02:15,155 - polyssifier - INFO - Training Bayesian Ridge 1\n",
      "2024-09-09 15:02:16,072 - polyssifier - INFO - Bayesian Ridge             1: Train 0.05/Test 0.01, 0.92 sec\n",
      "2024-09-09 15:02:16,356 - polyssifier - INFO - Training Bayesian Ridge 2\n",
      "2024-09-09 15:02:17,173 - polyssifier - INFO - Bayesian Ridge             2: Train 0.05/Test 0.01, 0.82 sec\n",
      "2024-09-09 15:02:17,384 - polyssifier - INFO - Training Bayesian Ridge 3\n",
      "2024-09-09 15:02:18,244 - polyssifier - INFO - Bayesian Ridge             3: Train 0.04/Test 0.01, 0.86 sec\n",
      "2024-09-09 15:02:18,454 - polyssifier - INFO - Training Bayesian Ridge 4\n",
      "2024-09-09 15:02:19,478 - polyssifier - INFO - Bayesian Ridge             4: Train 0.04/Test 0.02, 1.02 sec\n",
      "2024-09-09 15:02:19,670 - polyssifier - INFO - Training Ridge 0\n",
      "2024-09-09 15:02:22,214 - polyssifier - INFO - Ridge                      0: Train 0.16/Test -0.10, 2.54 sec\n",
      "2024-09-09 15:02:22,393 - polyssifier - INFO - Training Ridge 1\n",
      "2024-09-09 15:02:24,150 - polyssifier - INFO - Ridge                      1: Train 0.16/Test -0.05, 1.76 sec\n",
      "2024-09-09 15:02:24,327 - polyssifier - INFO - Training Ridge 2\n",
      "2024-09-09 15:02:26,005 - polyssifier - INFO - Ridge                      2: Train 0.17/Test -0.12, 1.68 sec\n",
      "2024-09-09 15:02:26,184 - polyssifier - INFO - Training Ridge 3\n",
      "2024-09-09 15:02:27,753 - polyssifier - INFO - Ridge                      3: Train 0.16/Test -0.09, 1.57 sec\n",
      "2024-09-09 15:02:27,937 - polyssifier - INFO - Training Ridge 4\n",
      "2024-09-09 15:02:29,708 - polyssifier - INFO - Ridge                      4: Train 0.16/Test -0.12, 1.77 sec\n",
      "2024-09-09 15:02:29,913 - polyssifier - INFO - Training OrthogonalMatchingPursuit 0\n",
      "2024-09-09 15:02:30,263 - polyssifier - INFO - OrthogonalMatchingPursuit  0: Train 0.06/Test -0.00, 0.35 sec\n",
      "2024-09-09 15:02:30,443 - polyssifier - INFO - Training OrthogonalMatchingPursuit 1\n",
      "2024-09-09 15:02:30,792 - polyssifier - INFO - OrthogonalMatchingPursuit  1: Train 0.07/Test -0.01, 0.35 sec\n",
      "2024-09-09 15:02:30,969 - polyssifier - INFO - Training OrthogonalMatchingPursuit 2\n",
      "2024-09-09 15:02:31,317 - polyssifier - INFO - OrthogonalMatchingPursuit  2: Train 0.07/Test -0.02, 0.35 sec\n",
      "2024-09-09 15:02:31,533 - polyssifier - INFO - Training OrthogonalMatchingPursuit 3\n",
      "2024-09-09 15:02:31,874 - polyssifier - INFO - OrthogonalMatchingPursuit  3: Train 0.06/Test -0.01, 0.34 sec\n",
      "2024-09-09 15:02:32,052 - polyssifier - INFO - Training OrthogonalMatchingPursuit 4\n",
      "2024-09-09 15:02:32,427 - polyssifier - INFO - OrthogonalMatchingPursuit  4: Train 0.07/Test 0.00, 0.37 sec\n"
     ]
    },
    {
     "name": "stdout",
     "output_type": "stream",
     "text": [
      "                                     mean       std       min       max\n",
      "Linear Regression         train  0.163593  0.005692  0.158072  0.172153\n",
      "                          test  -0.128951  0.037416 -0.158855 -0.064970\n",
      "Bayesian Ridge            train  0.043751  0.004218  0.039147  0.049051\n",
      "                          test   0.012818  0.004996  0.006153  0.017626\n",
      "Ridge                     train  0.160834  0.005148  0.155851  0.168399\n",
      "                          test  -0.097286  0.027949 -0.120517 -0.051602\n",
      "OrthogonalMatchingPursuit train  0.065956  0.004329  0.061751  0.072599\n",
      "                          test  -0.008626  0.009762 -0.024404  0.001663\n",
      "Median                    train  0.139923  0.004757  0.135371  0.146741\n",
      "                          test  -0.024948  0.012044 -0.042693 -0.010356\n"
     ]
    }
   ],
   "source": [
    "report_pca1 = polyr(X_pca1.to_numpy(),\n",
    "               y_pca1.to_numpy(),\n",
    "               n_folds = 5,\n",
    "               num_degrees=2,\n",
    "               exclude = ['GaussianProcessRegressor', 'PassiveAggressiveRegressor', 'Lasso', 'Lars', 'LassoLars', 'ElasticNet'],\n",
    "               scale=True,\n",
    "               feature_selection=False,\n",
    "               scoring='r2'\n",
    "               )"
   ]
  },
  {
   "cell_type": "code",
   "execution_count": null,
   "metadata": {},
   "outputs": [],
   "source": [
    "y4 > y3 > pca1 > cbcl > ksad"
   ]
  }
 ],
 "metadata": {
  "kernelspec": {
   "display_name": "CognitionPrediction",
   "language": "python",
   "name": "python3"
  },
  "language_info": {
   "codemirror_mode": {
    "name": "ipython",
    "version": 3
   },
   "file_extension": ".py",
   "mimetype": "text/x-python",
   "name": "python",
   "nbconvert_exporter": "python",
   "pygments_lexer": "ipython3",
   "version": "undefined.undefined.undefined"
  }
 },
 "nbformat": 4,
 "nbformat_minor": 2
}
